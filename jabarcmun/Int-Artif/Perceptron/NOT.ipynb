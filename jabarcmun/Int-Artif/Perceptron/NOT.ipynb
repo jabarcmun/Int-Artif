{
  "nbformat": 4,
  "nbformat_minor": 0,
  "metadata": {
    "colab": {
      "provenance": [],
      "authorship_tag": "ABX9TyNeAFiApBJzfFGijrEfKaEh",
      "include_colab_link": true
    },
    "kernelspec": {
      "name": "python3",
      "display_name": "Python 3"
    },
    "language_info": {
      "name": "python"
    }
  },
  "cells": [
    {
      "cell_type": "markdown",
      "metadata": {
        "id": "view-in-github",
        "colab_type": "text"
      },
      "source": [
        "<a href=\"https://colab.research.google.com/github/jabarcmun/Int-Artif/blob/main/jabarcmun/Int-Artif/Perceptron/NOT.ipynb\" target=\"_parent\"><img src=\"https://colab.research.google.com/assets/colab-badge.svg\" alt=\"Open In Colab\"/></a>"
      ]
    },
    {
      "cell_type": "code",
      "source": [
        "# ==========================================\n",
        "#           PERCEPTRÓN NOT\n",
        "class PerceptronNOT:\n",
        "    def __init__(self, tasa_aprendizaje=0.1):\n",
        "        # Inicia con peso y sesgo en 0\n",
        "        self.peso = 0.0\n",
        "        self.sesgo = 0.0\n",
        "        self.tasa_aprendizaje = tasa_aprendizaje\n",
        "\n",
        "    def activacion(self, z):\n",
        "        \"\"\"Función escalón: devuelve 1 si z >= 0, 0 en caso contrario\"\"\"\n",
        "        return 1 if z >= 0 else 0\n",
        "\n",
        "    def entrenar(self, entradas, salidas, epocas):\n",
        "        \"\"\"Entrena el perceptrón ajustando peso y sesgo\"\"\"\n",
        "        for epoca in range(epocas):\n",
        "            for i in range(len(entradas)):\n",
        "                # Usa la primera entrada (x1), ignora x2\n",
        "                x = entradas[i][0]\n",
        "                y_real = salidas[i]\n",
        "\n",
        "                # Calcula predicción y error\n",
        "                z = x * self.peso + self.sesgo\n",
        "                y_pred = self.activacion(z)\n",
        "                error = y_real - y_pred\n",
        "\n",
        "                # Actualiza parámetros\n",
        "                self.peso += self.tasa_aprendizaje * error * x\n",
        "                self.sesgo += self.tasa_aprendizaje * error\n",
        "\n",
        "            print(f\"Época {epoca+1}: peso={self.peso:.2f}, sesgo={self.sesgo:.2f}\")\n",
        "\n",
        "    def predecir(self, x):\n",
        "        \"\"\"Predice la salida para una entrada x\"\"\"\n",
        "        z = x * self.peso + self.sesgo\n",
        "        return self.activacion(z)\n",
        "\n",
        "\n",
        "# ========== APRENDE NOT ==========\n",
        "# Entradas: [(0,0), (1,0)] - solo usamos el primer valor\n",
        "# Salidas: [1, 0] - NOT(0)=1, NOT(1)=0\n",
        "entradas = [(0, 0), (1, 0)]\n",
        "salidas = [1, 0]\n",
        "\n",
        "# ========== ENTRENAMIENTO ==========\n",
        "print(\"=== ENTRENANDO NOT ===\")\n",
        "modelo = PerceptronNOT(tasa_aprendizaje=0.1)\n",
        "modelo.entrenar(entradas, salidas, epocas=5)\n",
        "\n",
        "# ========== PRUEBA ==========\n",
        "print(\"\\n=== RESULTADOS ===\")\n",
        "for entrada in [0, 1]:\n",
        "    prediccion = modelo.predecir(entrada)\n",
        "    real = 1 if entrada == 0 else 0\n",
        "    print(f\"NOT({entrada}) = {prediccion} (esperado: {real})\")"
      ],
      "metadata": {
        "colab": {
          "base_uri": "https://localhost:8080/"
        },
        "id": "yMDCBfQXmpY3",
        "outputId": "f5c45a34-e646-47fd-e9a9-33657216179f"
      },
      "execution_count": 1,
      "outputs": [
        {
          "output_type": "stream",
          "name": "stdout",
          "text": [
            "=== ENTRENANDO NOT ===\n",
            "Época 1: peso=-0.10, sesgo=-0.10\n",
            "Época 2: peso=-0.10, sesgo=0.00\n",
            "Época 3: peso=-0.10, sesgo=0.00\n",
            "Época 4: peso=-0.10, sesgo=0.00\n",
            "Época 5: peso=-0.10, sesgo=0.00\n",
            "\n",
            "=== RESULTADOS ===\n",
            "NOT(0) = 1 (esperado: 1)\n",
            "NOT(1) = 0 (esperado: 0)\n"
          ]
        }
      ]
    }
  ]
}