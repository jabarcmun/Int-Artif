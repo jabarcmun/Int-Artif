{
  "nbformat": 4,
  "nbformat_minor": 0,
  "metadata": {
    "colab": {
      "provenance": [],
      "gpuType": "T4",
      "authorship_tag": "ABX9TyPdMsbhrDrMzu73LbNvSESI",
      "include_colab_link": true
    },
    "kernelspec": {
      "name": "python3",
      "display_name": "Python 3"
    },
    "language_info": {
      "name": "python"
    },
    "accelerator": "GPU"
  },
  "cells": [
    {
      "cell_type": "markdown",
      "metadata": {
        "id": "view-in-github",
        "colab_type": "text"
      },
      "source": [
        "<a href=\"https://colab.research.google.com/github/jabarcmun/Int-Artif/blob/main/Clasificaci%C3%B3n_de_un_candidatohistory_%3D_modelo_fit(_X_train%2C_y_train%2C_epochs%3D50%2C_batch_size%3D8%2C_validation_data%3D(X_test%2C_y_test)%2C_verbose%3D1_).ipynb\" target=\"_parent\"><img src=\"https://colab.research.google.com/assets/colab-badge.svg\" alt=\"Open In Colab\"/></a>"
      ]
    },
    {
      "cell_type": "code",
      "execution_count": 12,
      "metadata": {
        "id": "Yqn9KG0LHOjY"
      },
      "outputs": [],
      "source": [
        "import numpy as np\n",
        "import pandas as pd\n",
        "\n",
        "# Generar dataset sintético con diferentes rangos por habilidad\n",
        "n_muestras = 5000\n",
        "# Habilidades técnicas: 70-100\n",
        "tec = np.random.randint(70, 101, (n_muestras, 6))\n",
        "# Habilidades matemáticas: 60-90\n",
        "mat = np.random.randint(60, 91, (n_muestras, 6))\n",
        "# Habilidades psicológicas: 50-85\n",
        "psi = np.random.randint(50, 86, (n_muestras, 6))\n",
        "# Nombres de columnas\n",
        "columnas = [\n",
        "    'python', 'sql', 'visualizacion_datos', 'excel', 'manejo_apis', 'nube',\n",
        "    'estadistica', 'probabilidad', 'algebra_lineal', 'calculo', 'optimizacion', 'modelado',\n",
        "    'trabajo_equipo', 'comunicacion', 'creatividad', 'adaptabilidad', 'liderazgo', 'resolucion_problemas'\n",
        "]\n",
        "# Crear DataFrame\n",
        "df = pd.DataFrame(np.concatenate([tec, mat, psi], axis=1), columns=columnas)"
      ]
    },
    {
      "cell_type": "code",
      "source": [
        "# Calcular promedio por grupo y promedio total\n",
        "prom_tecnologicas = df[['python', 'sql', 'visualizacion_datos', 'excel', 'manejo_apis', 'nube']].mean(axis=1)\n",
        "prom_matematicas  = df[['estadistica', 'probabilidad', 'algebra_lineal', 'calculo', 'optimizacion', 'modelado']].mean(axis=1)\n",
        "prom_psicologicas = df[['trabajo_equipo', 'comunicacion', 'creatividad', 'adaptabilidad', 'liderazgo', 'resolucion_problemas']].mean(axis=1)\n",
        "# Promedio total = promedio de los 3 promedios\n",
        "prom_total = (prom_tecnologicas + prom_matematicas + prom_psicologicas) / 3\n",
        "# Etiqueta: 1 = apto si promedio total > 80\n",
        "y = (prom_total > 75).astype(int)\n",
        "# one-hot encoding\n",
        "y = pd.get_dummies(y).values"
      ],
      "metadata": {
        "id": "7EsrBTRzIJAC"
      },
      "execution_count": 13,
      "outputs": []
    },
    {
      "cell_type": "code",
      "source": [
        "from sklearn.model_selection import train_test_split\n",
        "X_train, X_test, y_train, y_test = train_test_split(\n",
        "    df, y, test_size=0.2, random_state=42\n",
        ")\n",
        "\n",
        "# Escalamiento\n",
        "from sklearn.preprocessing import StandardScaler\n",
        "scaler = StandardScaler()\n",
        "X_train = scaler.fit_transform(X_train)\n",
        "X_test = scaler.transform(X_test)"
      ],
      "metadata": {
        "id": "7ggQinKtINBf"
      },
      "execution_count": 14,
      "outputs": []
    },
    {
      "cell_type": "code",
      "source": [
        "from tensorflow.keras.models import Sequential\n",
        "from tensorflow.keras.layers import Dense\n",
        "from tensorflow.keras.optimizers import Adam\n",
        "modelo = Sequential([\n",
        "    Dense(64, input_shape=(X_train.shape[1],), activation='relu'),\n",
        "    Dense(32, activation='relu'),\n",
        "    Dense(16, activation='relu'),\n",
        "    Dense(2, activation='softmax')\n",
        "])\n",
        "\n",
        "adam = Adam(learning_rate=0.001)\n",
        "modelo.compile(optimizer=adam, loss='categorical_crossentropy', metrics=['accuracy'])"
      ],
      "metadata": {
        "colab": {
          "base_uri": "https://localhost:8080/"
        },
        "id": "ycztdmskIY_H",
        "outputId": "f48e450e-b4b1-4d9b-c7aa-a4a4d4cae6c8"
      },
      "execution_count": 21,
      "outputs": [
        {
          "output_type": "stream",
          "name": "stderr",
          "text": [
            "/usr/local/lib/python3.12/dist-packages/keras/src/layers/core/dense.py:93: UserWarning: Do not pass an `input_shape`/`input_dim` argument to a layer. When using Sequential models, prefer using an `Input(shape)` object as the first layer in the model instead.\n",
            "  super().__init__(activity_regularizer=activity_regularizer, **kwargs)\n"
          ]
        }
      ]
    },
    {
      "cell_type": "code",
      "source": [
        "history = modelo.fit(\n",
        "    X_train, y_train,\n",
        "    epochs=50,\n",
        "    batch_size=3,\n",
        "    validation_data=(X_test, y_test),\n",
        "    verbose=1\n",
        ")"
      ],
      "metadata": {
        "colab": {
          "base_uri": "https://localhost:8080/"
        },
        "id": "1dAtTeuqJL8i",
        "outputId": "8dbf53e0-cdb7-43e6-ed91-92e8ae373a1f"
      },
      "execution_count": 29,
      "outputs": [
        {
          "output_type": "stream",
          "name": "stdout",
          "text": [
            "Epoch 1/50\n",
            "\u001b[1m1334/1334\u001b[0m \u001b[32m━━━━━━━━━━━━━━━━━━━━\u001b[0m\u001b[37m\u001b[0m \u001b[1m5s\u001b[0m 4ms/step - accuracy: 1.0000 - loss: 0.0000e+00 - val_accuracy: 0.9840 - val_loss: 0.1438\n",
            "Epoch 2/50\n",
            "\u001b[1m1334/1334\u001b[0m \u001b[32m━━━━━━━━━━━━━━━━━━━━\u001b[0m\u001b[37m\u001b[0m \u001b[1m4s\u001b[0m 3ms/step - accuracy: 1.0000 - loss: 0.0000e+00 - val_accuracy: 0.9840 - val_loss: 0.1438\n",
            "Epoch 3/50\n",
            "\u001b[1m1334/1334\u001b[0m \u001b[32m━━━━━━━━━━━━━━━━━━━━\u001b[0m\u001b[37m\u001b[0m \u001b[1m4s\u001b[0m 3ms/step - accuracy: 1.0000 - loss: 0.0000e+00 - val_accuracy: 0.9840 - val_loss: 0.1439\n",
            "Epoch 4/50\n",
            "\u001b[1m1334/1334\u001b[0m \u001b[32m━━━━━━━━━━━━━━━━━━━━\u001b[0m\u001b[37m\u001b[0m \u001b[1m6s\u001b[0m 4ms/step - accuracy: 1.0000 - loss: 0.0000e+00 - val_accuracy: 0.9840 - val_loss: 0.1440\n",
            "Epoch 5/50\n",
            "\u001b[1m1334/1334\u001b[0m \u001b[32m━━━━━━━━━━━━━━━━━━━━\u001b[0m\u001b[37m\u001b[0m \u001b[1m4s\u001b[0m 3ms/step - accuracy: 1.0000 - loss: 0.0000e+00 - val_accuracy: 0.9840 - val_loss: 0.1440\n",
            "Epoch 6/50\n",
            "\u001b[1m1334/1334\u001b[0m \u001b[32m━━━━━━━━━━━━━━━━━━━━\u001b[0m\u001b[37m\u001b[0m \u001b[1m4s\u001b[0m 3ms/step - accuracy: 1.0000 - loss: 0.0000e+00 - val_accuracy: 0.9840 - val_loss: 0.1441\n",
            "Epoch 7/50\n",
            "\u001b[1m1334/1334\u001b[0m \u001b[32m━━━━━━━━━━━━━━━━━━━━\u001b[0m\u001b[37m\u001b[0m \u001b[1m4s\u001b[0m 3ms/step - accuracy: 1.0000 - loss: 0.0000e+00 - val_accuracy: 0.9840 - val_loss: 0.1442\n",
            "Epoch 8/50\n",
            "\u001b[1m1334/1334\u001b[0m \u001b[32m━━━━━━━━━━━━━━━━━━━━\u001b[0m\u001b[37m\u001b[0m \u001b[1m4s\u001b[0m 3ms/step - accuracy: 1.0000 - loss: 0.0000e+00 - val_accuracy: 0.9840 - val_loss: 0.1443\n",
            "Epoch 9/50\n",
            "\u001b[1m1334/1334\u001b[0m \u001b[32m━━━━━━━━━━━━━━━━━━━━\u001b[0m\u001b[37m\u001b[0m \u001b[1m4s\u001b[0m 3ms/step - accuracy: 1.0000 - loss: 0.0000e+00 - val_accuracy: 0.9840 - val_loss: 0.1444\n",
            "Epoch 10/50\n",
            "\u001b[1m1334/1334\u001b[0m \u001b[32m━━━━━━━━━━━━━━━━━━━━\u001b[0m\u001b[37m\u001b[0m \u001b[1m4s\u001b[0m 3ms/step - accuracy: 1.0000 - loss: 0.0000e+00 - val_accuracy: 0.9840 - val_loss: 0.1444\n",
            "Epoch 11/50\n",
            "\u001b[1m1334/1334\u001b[0m \u001b[32m━━━━━━━━━━━━━━━━━━━━\u001b[0m\u001b[37m\u001b[0m \u001b[1m5s\u001b[0m 3ms/step - accuracy: 1.0000 - loss: 0.0000e+00 - val_accuracy: 0.9840 - val_loss: 0.1445\n",
            "Epoch 12/50\n",
            "\u001b[1m1334/1334\u001b[0m \u001b[32m━━━━━━━━━━━━━━━━━━━━\u001b[0m\u001b[37m\u001b[0m \u001b[1m5s\u001b[0m 4ms/step - accuracy: 1.0000 - loss: 0.0000e+00 - val_accuracy: 0.9840 - val_loss: 0.1446\n",
            "Epoch 13/50\n",
            "\u001b[1m1334/1334\u001b[0m \u001b[32m━━━━━━━━━━━━━━━━━━━━\u001b[0m\u001b[37m\u001b[0m \u001b[1m4s\u001b[0m 3ms/step - accuracy: 1.0000 - loss: 0.0000e+00 - val_accuracy: 0.9840 - val_loss: 0.1446\n",
            "Epoch 14/50\n",
            "\u001b[1m1334/1334\u001b[0m \u001b[32m━━━━━━━━━━━━━━━━━━━━\u001b[0m\u001b[37m\u001b[0m \u001b[1m4s\u001b[0m 3ms/step - accuracy: 1.0000 - loss: 0.0000e+00 - val_accuracy: 0.9840 - val_loss: 0.1447\n",
            "Epoch 15/50\n",
            "\u001b[1m1334/1334\u001b[0m \u001b[32m━━━━━━━━━━━━━━━━━━━━\u001b[0m\u001b[37m\u001b[0m \u001b[1m4s\u001b[0m 3ms/step - accuracy: 1.0000 - loss: 0.0000e+00 - val_accuracy: 0.9840 - val_loss: 0.1448\n",
            "Epoch 16/50\n",
            "\u001b[1m1334/1334\u001b[0m \u001b[32m━━━━━━━━━━━━━━━━━━━━\u001b[0m\u001b[37m\u001b[0m \u001b[1m4s\u001b[0m 3ms/step - accuracy: 1.0000 - loss: 0.0000e+00 - val_accuracy: 0.9840 - val_loss: 0.1449\n",
            "Epoch 17/50\n",
            "\u001b[1m1334/1334\u001b[0m \u001b[32m━━━━━━━━━━━━━━━━━━━━\u001b[0m\u001b[37m\u001b[0m \u001b[1m4s\u001b[0m 3ms/step - accuracy: 1.0000 - loss: 0.0000e+00 - val_accuracy: 0.9840 - val_loss: 0.1449\n",
            "Epoch 18/50\n",
            "\u001b[1m1334/1334\u001b[0m \u001b[32m━━━━━━━━━━━━━━━━━━━━\u001b[0m\u001b[37m\u001b[0m \u001b[1m4s\u001b[0m 3ms/step - accuracy: 1.0000 - loss: 0.0000e+00 - val_accuracy: 0.9840 - val_loss: 0.1450\n",
            "Epoch 19/50\n",
            "\u001b[1m1334/1334\u001b[0m \u001b[32m━━━━━━━━━━━━━━━━━━━━\u001b[0m\u001b[37m\u001b[0m \u001b[1m4s\u001b[0m 3ms/step - accuracy: 1.0000 - loss: 0.0000e+00 - val_accuracy: 0.9840 - val_loss: 0.1450\n",
            "Epoch 20/50\n",
            "\u001b[1m1334/1334\u001b[0m \u001b[32m━━━━━━━━━━━━━━━━━━━━\u001b[0m\u001b[37m\u001b[0m \u001b[1m4s\u001b[0m 3ms/step - accuracy: 1.0000 - loss: 0.0000e+00 - val_accuracy: 0.9840 - val_loss: 0.1451\n",
            "Epoch 21/50\n",
            "\u001b[1m1334/1334\u001b[0m \u001b[32m━━━━━━━━━━━━━━━━━━━━\u001b[0m\u001b[37m\u001b[0m \u001b[1m4s\u001b[0m 3ms/step - accuracy: 1.0000 - loss: 0.0000e+00 - val_accuracy: 0.9840 - val_loss: 0.1452\n",
            "Epoch 22/50\n",
            "\u001b[1m1334/1334\u001b[0m \u001b[32m━━━━━━━━━━━━━━━━━━━━\u001b[0m\u001b[37m\u001b[0m \u001b[1m4s\u001b[0m 3ms/step - accuracy: 1.0000 - loss: 0.0000e+00 - val_accuracy: 0.9840 - val_loss: 0.1452\n",
            "Epoch 23/50\n",
            "\u001b[1m1334/1334\u001b[0m \u001b[32m━━━━━━━━━━━━━━━━━━━━\u001b[0m\u001b[37m\u001b[0m \u001b[1m4s\u001b[0m 3ms/step - accuracy: 1.0000 - loss: 0.0000e+00 - val_accuracy: 0.9840 - val_loss: 0.1453\n",
            "Epoch 24/50\n",
            "\u001b[1m1334/1334\u001b[0m \u001b[32m━━━━━━━━━━━━━━━━━━━━\u001b[0m\u001b[37m\u001b[0m \u001b[1m4s\u001b[0m 3ms/step - accuracy: 1.0000 - loss: 0.0000e+00 - val_accuracy: 0.9840 - val_loss: 0.1453\n",
            "Epoch 25/50\n",
            "\u001b[1m1334/1334\u001b[0m \u001b[32m━━━━━━━━━━━━━━━━━━━━\u001b[0m\u001b[37m\u001b[0m \u001b[1m4s\u001b[0m 3ms/step - accuracy: 1.0000 - loss: 0.0000e+00 - val_accuracy: 0.9840 - val_loss: 0.1454\n",
            "Epoch 26/50\n",
            "\u001b[1m1334/1334\u001b[0m \u001b[32m━━━━━━━━━━━━━━━━━━━━\u001b[0m\u001b[37m\u001b[0m \u001b[1m4s\u001b[0m 3ms/step - accuracy: 1.0000 - loss: 0.0000e+00 - val_accuracy: 0.9840 - val_loss: 0.1455\n",
            "Epoch 27/50\n",
            "\u001b[1m1334/1334\u001b[0m \u001b[32m━━━━━━━━━━━━━━━━━━━━\u001b[0m\u001b[37m\u001b[0m \u001b[1m4s\u001b[0m 3ms/step - accuracy: 1.0000 - loss: 0.0000e+00 - val_accuracy: 0.9840 - val_loss: 0.1455\n",
            "Epoch 28/50\n",
            "\u001b[1m1334/1334\u001b[0m \u001b[32m━━━━━━━━━━━━━━━━━━━━\u001b[0m\u001b[37m\u001b[0m \u001b[1m4s\u001b[0m 3ms/step - accuracy: 1.0000 - loss: 0.0000e+00 - val_accuracy: 0.9840 - val_loss: 0.1456\n",
            "Epoch 29/50\n",
            "\u001b[1m1334/1334\u001b[0m \u001b[32m━━━━━━━━━━━━━━━━━━━━\u001b[0m\u001b[37m\u001b[0m \u001b[1m4s\u001b[0m 3ms/step - accuracy: 1.0000 - loss: 0.0000e+00 - val_accuracy: 0.9840 - val_loss: 0.1457\n",
            "Epoch 30/50\n",
            "\u001b[1m1334/1334\u001b[0m \u001b[32m━━━━━━━━━━━━━━━━━━━━\u001b[0m\u001b[37m\u001b[0m \u001b[1m4s\u001b[0m 3ms/step - accuracy: 1.0000 - loss: 0.0000e+00 - val_accuracy: 0.9840 - val_loss: 0.1457\n",
            "Epoch 31/50\n",
            "\u001b[1m1334/1334\u001b[0m \u001b[32m━━━━━━━━━━━━━━━━━━━━\u001b[0m\u001b[37m\u001b[0m \u001b[1m5s\u001b[0m 3ms/step - accuracy: 1.0000 - loss: 0.0000e+00 - val_accuracy: 0.9840 - val_loss: 0.1458\n",
            "Epoch 32/50\n",
            "\u001b[1m1334/1334\u001b[0m \u001b[32m━━━━━━━━━━━━━━━━━━━━\u001b[0m\u001b[37m\u001b[0m \u001b[1m4s\u001b[0m 3ms/step - accuracy: 1.0000 - loss: 0.0000e+00 - val_accuracy: 0.9840 - val_loss: 0.1458\n",
            "Epoch 33/50\n",
            "\u001b[1m1334/1334\u001b[0m \u001b[32m━━━━━━━━━━━━━━━━━━━━\u001b[0m\u001b[37m\u001b[0m \u001b[1m4s\u001b[0m 3ms/step - accuracy: 1.0000 - loss: 0.0000e+00 - val_accuracy: 0.9840 - val_loss: 0.1459\n",
            "Epoch 34/50\n",
            "\u001b[1m1334/1334\u001b[0m \u001b[32m━━━━━━━━━━━━━━━━━━━━\u001b[0m\u001b[37m\u001b[0m \u001b[1m4s\u001b[0m 3ms/step - accuracy: 1.0000 - loss: 0.0000e+00 - val_accuracy: 0.9840 - val_loss: 0.1459\n",
            "Epoch 35/50\n",
            "\u001b[1m1334/1334\u001b[0m \u001b[32m━━━━━━━━━━━━━━━━━━━━\u001b[0m\u001b[37m\u001b[0m \u001b[1m4s\u001b[0m 3ms/step - accuracy: 1.0000 - loss: 0.0000e+00 - val_accuracy: 0.9840 - val_loss: 0.1460\n",
            "Epoch 36/50\n",
            "\u001b[1m1334/1334\u001b[0m \u001b[32m━━━━━━━━━━━━━━━━━━━━\u001b[0m\u001b[37m\u001b[0m \u001b[1m4s\u001b[0m 3ms/step - accuracy: 1.0000 - loss: 0.0000e+00 - val_accuracy: 0.9840 - val_loss: 0.1460\n",
            "Epoch 37/50\n",
            "\u001b[1m1334/1334\u001b[0m \u001b[32m━━━━━━━━━━━━━━━━━━━━\u001b[0m\u001b[37m\u001b[0m \u001b[1m4s\u001b[0m 3ms/step - accuracy: 1.0000 - loss: 0.0000e+00 - val_accuracy: 0.9840 - val_loss: 0.1461\n",
            "Epoch 38/50\n",
            "\u001b[1m1334/1334\u001b[0m \u001b[32m━━━━━━━━━━━━━━━━━━━━\u001b[0m\u001b[37m\u001b[0m \u001b[1m4s\u001b[0m 3ms/step - accuracy: 1.0000 - loss: 0.0000e+00 - val_accuracy: 0.9840 - val_loss: 0.1461\n",
            "Epoch 39/50\n",
            "\u001b[1m1334/1334\u001b[0m \u001b[32m━━━━━━━━━━━━━━━━━━━━\u001b[0m\u001b[37m\u001b[0m \u001b[1m4s\u001b[0m 3ms/step - accuracy: 1.0000 - loss: 0.0000e+00 - val_accuracy: 0.9840 - val_loss: 0.1462\n",
            "Epoch 40/50\n",
            "\u001b[1m1334/1334\u001b[0m \u001b[32m━━━━━━━━━━━━━━━━━━━━\u001b[0m\u001b[37m\u001b[0m \u001b[1m6s\u001b[0m 3ms/step - accuracy: 1.0000 - loss: 0.0000e+00 - val_accuracy: 0.9840 - val_loss: 0.1462\n",
            "Epoch 41/50\n",
            "\u001b[1m1334/1334\u001b[0m \u001b[32m━━━━━━━━━━━━━━━━━━━━\u001b[0m\u001b[37m\u001b[0m \u001b[1m4s\u001b[0m 3ms/step - accuracy: 1.0000 - loss: 0.0000e+00 - val_accuracy: 0.9840 - val_loss: 0.1463\n",
            "Epoch 42/50\n",
            "\u001b[1m1334/1334\u001b[0m \u001b[32m━━━━━━━━━━━━━━━━━━━━\u001b[0m\u001b[37m\u001b[0m \u001b[1m4s\u001b[0m 3ms/step - accuracy: 1.0000 - loss: 0.0000e+00 - val_accuracy: 0.9840 - val_loss: 0.1463\n",
            "Epoch 43/50\n",
            "\u001b[1m1334/1334\u001b[0m \u001b[32m━━━━━━━━━━━━━━━━━━━━\u001b[0m\u001b[37m\u001b[0m \u001b[1m4s\u001b[0m 3ms/step - accuracy: 1.0000 - loss: 0.0000e+00 - val_accuracy: 0.9840 - val_loss: 0.1464\n",
            "Epoch 44/50\n",
            "\u001b[1m1334/1334\u001b[0m \u001b[32m━━━━━━━━━━━━━━━━━━━━\u001b[0m\u001b[37m\u001b[0m \u001b[1m4s\u001b[0m 3ms/step - accuracy: 1.0000 - loss: 0.0000e+00 - val_accuracy: 0.9840 - val_loss: 0.1464\n",
            "Epoch 45/50\n",
            "\u001b[1m1334/1334\u001b[0m \u001b[32m━━━━━━━━━━━━━━━━━━━━\u001b[0m\u001b[37m\u001b[0m \u001b[1m4s\u001b[0m 3ms/step - accuracy: 1.0000 - loss: 0.0000e+00 - val_accuracy: 0.9840 - val_loss: 0.1465\n",
            "Epoch 46/50\n",
            "\u001b[1m1334/1334\u001b[0m \u001b[32m━━━━━━━━━━━━━━━━━━━━\u001b[0m\u001b[37m\u001b[0m \u001b[1m4s\u001b[0m 3ms/step - accuracy: 1.0000 - loss: 0.0000e+00 - val_accuracy: 0.9840 - val_loss: 0.1465\n",
            "Epoch 47/50\n",
            "\u001b[1m1334/1334\u001b[0m \u001b[32m━━━━━━━━━━━━━━━━━━━━\u001b[0m\u001b[37m\u001b[0m \u001b[1m4s\u001b[0m 3ms/step - accuracy: 1.0000 - loss: 0.0000e+00 - val_accuracy: 0.9840 - val_loss: 0.1466\n",
            "Epoch 48/50\n",
            "\u001b[1m1334/1334\u001b[0m \u001b[32m━━━━━━━━━━━━━━━━━━━━\u001b[0m\u001b[37m\u001b[0m \u001b[1m4s\u001b[0m 3ms/step - accuracy: 1.0000 - loss: 0.0000e+00 - val_accuracy: 0.9840 - val_loss: 0.1466\n",
            "Epoch 49/50\n",
            "\u001b[1m1334/1334\u001b[0m \u001b[32m━━━━━━━━━━━━━━━━━━━━\u001b[0m\u001b[37m\u001b[0m \u001b[1m6s\u001b[0m 3ms/step - accuracy: 1.0000 - loss: 0.0000e+00 - val_accuracy: 0.9840 - val_loss: 0.1467\n",
            "Epoch 50/50\n",
            "\u001b[1m1334/1334\u001b[0m \u001b[32m━━━━━━━━━━━━━━━━━━━━\u001b[0m\u001b[37m\u001b[0m \u001b[1m4s\u001b[0m 3ms/step - accuracy: 1.0000 - loss: 0.0000e+00 - val_accuracy: 0.9840 - val_loss: 0.1467\n"
          ]
        }
      ]
    },
    {
      "cell_type": "code",
      "source": [
        "import matplotlib.pyplot as plt\n",
        "\n",
        "plt.plot(history.history['loss'], label='Pérdida de entrenamiento')\n",
        "plt.plot(history.history['val_loss'], label='Pérdida de validación')\n",
        "plt.xlabel('Épocas')\n",
        "plt.ylabel('Pérdida')\n",
        "plt.legend()\n",
        "plt.title('Evolución de la función de pérdida')\n",
        "plt.show()\n",
        "\n",
        "loss, acc = modelo.evaluate(X_test, y_test)\n",
        "print(f\"\\n🔹 Loss: {loss:.4f}  |  Accuracy: {acc:.4f}\")"
      ],
      "metadata": {
        "colab": {
          "base_uri": "https://localhost:8080/",
          "height": 528
        },
        "id": "Hq8QmG_SJPDY",
        "outputId": "1126a621-a726-4509-97ee-fa1efb2a2c25"
      },
      "execution_count": 30,
      "outputs": [
        {
          "output_type": "display_data",
          "data": {
            "text/plain": [
              "<Figure size 640x480 with 1 Axes>"
            ],
            "image/png": "[encoded data removed]"
          },
          "metadata": {}
        },
        {
          "output_type": "stream",
          "name": "stdout",
          "text": [
            "\u001b[1m32/32\u001b[0m \u001b[32m━━━━━━━━━━━━━━━━━━━━\u001b[0m\u001b[37m\u001b[0m \u001b[1m0s\u001b[0m 4ms/step - accuracy: 0.9851 - loss: 0.1135\n",
            "\n",
            "🔹 Loss: 0.1467  |  Accuracy: 0.9840\n"
          ]
        }
      ]
    },
    {
      "cell_type": "code",
      "source": [
        "from sklearn.metrics import confusion_matrix, ConfusionMatrixDisplay, recall_score\n",
        "\n",
        "pred = modelo.predict(X_test)\n",
        "y_pred = np.argmax(pred, axis=1)\n",
        "y_true = np.argmax(y_test, axis=1)\n",
        "\n",
        "cm = confusion_matrix(y_true, y_pred)\n",
        "disp = ConfusionMatrixDisplay(confusion_matrix=cm, display_labels=['No Apto', 'Apto'])\n",
        "disp.plot(cmap='Blues')\n",
        "plt.show()\n",
        "\n",
        "sensitivity = recall_score(y_true, y_pred, average=None)\n",
        "print(\"\\nSensitivity (Recall) por clase:\")\n",
        "print(f\"No Apto: {sensitivity[0]:.2f}\")\n",
        "print(f\"Apto: {sensitivity[1]:.2f}\")"
      ],
      "metadata": {
        "colab": {
          "base_uri": "https://localhost:8080/",
          "height": 538
        },
        "id": "_QihqKq9JSjO",
        "outputId": "a2227330-ecf3-4538-97f9-f82afd44593a"
      },
      "execution_count": 18,
      "outputs": [
        {
          "output_type": "stream",
          "name": "stdout",
          "text": [
            "\u001b[1m32/32\u001b[0m \u001b[32m━━━━━━━━━━━━━━━━━━━━\u001b[0m\u001b[37m\u001b[0m \u001b[1m1s\u001b[0m 8ms/step\n"
          ]
        },
        {
          "output_type": "display_data",
          "data": {
            "text/plain": [
              "<Figure size 640x480 with 2 Axes>"
            ],
            "image/png": "[encoded data removed]"
          },
          "metadata": {}
        },
        {
          "output_type": "stream",
          "name": "stdout",
          "text": [
            "\n",
            "Sensitivity (Recall) por clase:\n",
            "No Apto: 0.96\n",
            "Apto: 0.98\n"
          ]
        }
      ]
    },
    {
      "cell_type": "code",
      "source": [
        "nuevo_candidato = np.array([[90, 88, 85, 87, 84, 89,   # técnicas\n",
        "                             82, 86, 85, 83, 87, 80,   # matemáticas\n",
        "                             70, 75, 80, 72, 78, 74]]) # psicológicas\n",
        "\n",
        "nuevo_candidato_scaled = scaler.transform(nuevo_candidato)\n",
        "pred_nuevo = modelo.predict(nuevo_candidato_scaled)\n",
        "clase_predicha = np.argmax(pred_nuevo)\n",
        "\n",
        "print(\"Evaluación de nuevo candidato:\")\n",
        "print(f\"Resultado: {'Apto' if clase_predicha == 1 else 'No Apto'}\")"
      ],
      "metadata": {
        "colab": {
          "base_uri": "https://localhost:8080/"
        },
        "id": "gh5xTLfYJlve",
        "outputId": "24791c40-bcda-48dc-d0d9-30532223327d"
      },
      "execution_count": 20,
      "outputs": [
        {
          "output_type": "stream",
          "name": "stdout",
          "text": [
            "\u001b[1m1/1\u001b[0m \u001b[32m━━━━━━━━━━━━━━━━━━━━\u001b[0m\u001b[37m\u001b[0m \u001b[1m0s\u001b[0m 30ms/step\n",
            "Evaluación de nuevo candidato:\n",
            "Resultado: Apto\n"
          ]
        },
        {
          "output_type": "stream",
          "name": "stderr",
          "text": [
            "/usr/local/lib/python3.12/dist-packages/sklearn/utils/validation.py:2739: UserWarning: X does not have valid feature names, but StandardScaler was fitted with feature names\n",
            "  warnings.warn(\n"
          ]
        }
      ]
    }
  ]
}